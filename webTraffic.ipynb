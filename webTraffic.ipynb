{
 "cells": [
  {
   "cell_type": "code",
   "execution_count": 110,
   "metadata": {
    "collapsed": false
   },
   "outputs": [],
   "source": [
    "import numpy as np\n",
    "import scipy as sp\n",
    "data = sp.genfromtxt(\"https://raw.githubusercontent.com/luispedro/BuildingMachineLearningSystemsWithPython/master/ch01/data/web_traffic.tsv\",\n",
    "                     delimiter=\"\\t\")\n",
    "#print(data[:10])\n",
    "\n",
    "x = data[:,0]\n",
    "y = data[:,1]\n",
    "sp.sum(sp.isnan(y))\n",
    "x = x[~sp.isnan(y)]\n",
    "y = y[~sp.isnan(y)]\n",
    "#print(data.shape)\n",
    "import matplotlib.pyplot as plt\n",
    "plt.scatter(x,y)\n",
    "plt.title(\"Web traffic over the last month\")\n",
    "plt.xlabel(\"Time\")\n",
    "plt.ylabel(\"Hits/hour\")\n",
    "plt.xticks([w*7*24 for w in range(10)],\n",
    "['week %i'%w for w in range(10)])\n",
    "plt.autoscale(tight=True)\n",
    "plt.grid()\n",
    "plt.show()\n",
    "def error(f,x,y):\n",
    "    return sp.sum((f(x)-y)**2)\n"
   ]
  },
  {
   "cell_type": "code",
   "execution_count": 111,
   "metadata": {
    "collapsed": false
   },
   "outputs": [],
   "source": [
    "fpl, res, rank, sv, rcond = sp.polyfit(x,y,5, full=True)\n",
    "#print(\"Model parameters: %s\" % fpl)\n",
    "#print(\"res: %s\" % res)\n"
   ]
  },
  {
   "cell_type": "code",
   "execution_count": null,
   "metadata": {
    "collapsed": true
   },
   "outputs": [],
   "source": []
  },
  {
   "cell_type": "code",
   "execution_count": 112,
   "metadata": {
    "collapsed": false
   },
   "outputs": [
    {
     "name": "stdout",
     "output_type": "stream",
     "text": [
      "124464714.566\n"
     ]
    }
   ],
   "source": [
    "#f(x) =  2.59619213 * x + 989.02487106\n",
    "fl = sp.poly1d(fpl)\n",
    "print(error(fl,x,y))\n"
   ]
  },
  {
   "cell_type": "code",
   "execution_count": 113,
   "metadata": {
    "collapsed": false
   },
   "outputs": [
    {
     "data": {
      "text/plain": [
       "<matplotlib.legend.Legend at 0x7fa7cdb8d400>"
      ]
     },
     "execution_count": 113,
     "metadata": {},
     "output_type": "execute_result"
    }
   ],
   "source": [
    "fx = sp.linspace(0,x[-1],1000) #generate x-value for plotting\n",
    "plt.plot(fx, fl(fx), color='r', linewidth=2)\n",
    "plt.legend([\"d=%i\" % fl.order], loc=\"upper left\")\n"
   ]
  },
  {
   "cell_type": "code",
   "execution_count": 114,
   "metadata": {
    "collapsed": false
   },
   "outputs": [
    {
     "name": "stdout",
     "output_type": "stream",
     "text": [
      "[  1.05322215e-02  -5.26545650e+00   1.97476082e+03]\n",
      "179983507.878\n"
     ]
    }
   ],
   "source": [
    "f2p = sp.polyfit(x, y, 2)\n",
    "print(f2p)\n",
    "f2 = sp.poly1d(f2p)\n",
    "print(error(f2, x, y))\n"
   ]
  }
 ],
 "metadata": {
  "kernelspec": {
   "display_name": "Python 3",
   "language": "python",
   "name": "python3"
  },
  "language_info": {
   "codemirror_mode": {
    "name": "ipython",
    "version": 3
   },
   "file_extension": ".py",
   "mimetype": "text/x-python",
   "name": "python",
   "nbconvert_exporter": "python",
   "pygments_lexer": "ipython3",
   "version": "3.5.1"
  }
 },
 "nbformat": 4,
 "nbformat_minor": 0
}
